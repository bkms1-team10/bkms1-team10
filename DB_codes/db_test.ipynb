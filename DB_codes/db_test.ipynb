{
 "cells": [
  {
   "cell_type": "code",
   "execution_count": 2,
   "metadata": {},
   "outputs": [],
   "source": [
    "import sqlite3\n",
    "\n",
    "def query(command, path='project.db'):\n",
    "    conn = sqlite3.connect(path)\n",
    "    cursor = conn.cursor()\n",
    "    cursor.execute(command)\n",
    "    rows = cursor.fetchall()\n",
    "    conn.close()\n",
    "    return rows"
   ]
  },
  {
   "cell_type": "code",
   "execution_count": 3,
   "metadata": {},
   "outputs": [
    {
     "name": "stdout",
     "output_type": "stream",
     "text": [
      "100\n"
     ]
    }
   ],
   "source": [
    "# Example 1\n",
    "result = query(\"SELECT * FROM Reviews LIMIT 100\")\n",
    "print(len(result))"
   ]
  },
  {
   "cell_type": "code",
   "execution_count": 4,
   "metadata": {},
   "outputs": [
    {
     "name": "stdout",
     "output_type": "stream",
     "text": [
      "### Users\n",
      "('0000c3d51aa099745e93a4e99c4856c8', '1', '1', 'Judith1', '72fb0d00@bkms.com', '서울특별시 강남구 도곡동 도곡대림', '강남구', '도곡동', '[37.4865450724295, 127.039889051865]', 37.4865450724295, 127.039889051865)\n",
      "('0005f52944ea1992e95d61f287acaea9', '163', '163', 'Dimetry163', '854c0f87@bkms.com', '서울특별시 동작구 상도동 상도래미안1차제2', '동작구', '상도동', '[37.50571609361137, 126.93334302462937]', 37.50571609361137, 126.93334302462937)\n",
      "### Books\n",
      "('7327624', 'The Unschooled Wizard (Sun Wolf and Starhawk, #1-2)', '10333', 'https://images.gr-assets.com/books/1304100136m/7327624.jpg', 'Omnibus book club edition containing the Ladies of Madrigyn and the Witches of Wenshar.', 4.03)\n",
      "('6066819', 'Best Friends Forever', '9212', 'https://s.gr-assets.com/assets/nophoto/book/111x148-bcc042a9c91a29c1d680899eff700a03.png', \"Addie Downs and Valerie Adler were eight when they first met and decided to be best friends forever. But, in the wake of tragedy and betrayal during their teenage years, everything changed. Val went on to fame and fortune. Addie stayed behind in their small Midwestern town. Destiny, however, had more in store for these two. And when, twenty-five years later, Val shows up at Addie's front door with blood on her coat and terror on her face, it is the beginning of a wild adventure for two women joined by love and history who find strength together that they could not find alone.\", 3.49)\n",
      "### Authors\n",
      "('626222', 'Anita Diamant')\n",
      "('10333', 'Barbara Hambly')\n",
      "### Ratings\n",
      "('1', '01ec1a320ffded6b2dd47833f2c8e4fb', '34426579', 5, '1')\n",
      "('2', '01ec1a320ffded6b2dd47833f2c8e4fb', '32993133', 5, '2')\n",
      "### Reviews\n",
      "('1', '4.5 I\\'m-Obsessed Stars!! \\n Jessica Hawkins has written an engrossing and emotional romance that I simply couldn\\'t put down! I am obsessed with Lake and Manning. Book #3 is releasing on 10/23 so if you\\'ve been waiting to start this series, don\\'t delay! \\n \"Ten months. That was how long I\\'d gone without a fix. Lake\\'s letters came every couple weeks. I\\'d opened the first one, but that was it. I\\'d known right then that if I was going to make it through this, I couldn\\'t think of her. Couldn\\'t be inside her head that way, and she definitely couldn\\'t be inside mine.\" \\n My heart broke for Lake and Manning. They endured years apart and obstacles at every turn. I honestly do not know what will happen, but I can\\'t wait to find out! \\n \"But he was still the one who could get everything I wanted with one word from Lake.\" \\n This is the kind of book that I read every chance I could. The characters are all believable and very real. The California setting was described perfectly. I simply could not put this book down!!! Highly recommend this series for contemporary romance readers. I\\'m a Jessica Hawkins fan for life!! \\n \" I couldn\\'t tell her I loved her. I couldn\\'t tell her I didn\\'t. It killed me, but that was how it was. It wasn\\'t going to be any other way, no matter how many times she put me in this goddamn position.\" \\n Favorite quote: \\n \"Maybe one day, Manning and I would challenge fate, defy gravity, and move the stars ourselves. But today was not that day.\"')\n",
      "('2', '4.5 Stars!! \\n \"Was sixteen too young to fall in love? I might\\'ve thought so before Manning. Could he love me back, a man seven years older? I was sure if he did, he\\'d never admit it. But I would wait for him. Even I understood that for a while, our ages mattered.\" \\n As a longtime fan of Jessica Hawkins, I just knew I would love this book. And from the very first page, I was totally hooked. What a delight! A slow-burn, forbidden romance. My favorite! \\n This is the kind of book where the author takes her time describing a first meeting, a small moment, a conversation. Nothing is simply told, it is shown. I flew through this book, absolutely breathless with anticipation at what would happen next! \\n Lake and Tiffany are two sisters who both meet Manning at the same time. There\\'s just one problem: Lake is only 16 years old. And Manning is a handsome construction worker with a past. \\n He half-smiled, one corner of his mouth lifting. That was the first I saw of his straight, white teeth. My heart skipped. Under the dirt, the sweat, the calluses, he was handsome. I\\'d known it already, peripherally, as I knew the direction of the beach or the artwork hanging in my dad\\'s office. But now it was right in front of me. I couldn\\'t miss it.\" \\n Lake is a good girl: smart, studious and obedient. Tiffany is the wild child. But the interactions with their parents are nuanced and there is more to them than their labels. Although Tiffany seems flighty, she is much more appropriate for Manning than Lake. But who will get his heart? \\n \"Manning leaned his elbows onto his knees and watched her approach. My sister had that effect on men. They were always looking over or around me to see her. What\\'d he think when he looked at her? What\\'d he notice first?\" \\n I rarely have time to read a series back to back. But this book was so gripping and intense that I am immediately picking up the next book! I am obsessed with these characters and their story! \\n \"Some invisible tether existed between us. Nobody could see it, not even us, but I felt it. I was sure Manning did, too. As long as we both knew it, that was enough for me. For now, at least.\" \\n Highly recommend this one. It has great pacing, a real setting and a gripping story. Don\\'t miss it!! \\n \"It was a promise. No matter what, the story would only ever be about us.')\n",
      "### Sharings\n",
      "('1', '213ebbd84be50e1c88353ea4d17c2e70', '6728514')\n",
      "('2', '21d3b9ef9fe95bac4438e4bbb69816d2', '11153081')\n"
     ]
    }
   ],
   "source": [
    "# Example 2\n",
    "for table in ['Users', 'Books', 'Authors', 'Ratings', 'Reviews', 'Sharings']:\n",
    "    result = query(f\"SELECT * FROM {table} LIMIT 2\")\n",
    "    print(f'### {table}')\n",
    "    for row in result:\n",
    "        print(row)"
   ]
  },
  {
   "cell_type": "code",
   "execution_count": 5,
   "metadata": {},
   "outputs": [],
   "source": [
    "def db_check(name):\n",
    "    conn = sqlite3.connect(name)\n",
    "    c = conn.cursor()\n",
    "\n",
    "    query = \"SELECT name, sql FROM sqlite_master WHERE type='table'\"\n",
    "    c.execute(query)\n",
    "    result = c.fetchall()\n",
    "\n",
    "    for table_name, schema in result:\n",
    "        print(\"---\")\n",
    "        row_count_query = f\"SELECT COUNT(*) FROM {table_name}\"\n",
    "        c.execute(row_count_query)\n",
    "        row_count = c.fetchone()[0]\n",
    "        print(f\"Table '{table_name}': {row_count} rows\")\n",
    "        print(f\"Schema:\\n{schema}\\n\")\n",
    "\n",
    "    conn.close()"
   ]
  },
  {
   "cell_type": "code",
   "execution_count": 7,
   "metadata": {},
   "outputs": [
    {
     "name": "stdout",
     "output_type": "stream",
     "text": [
      "---\n",
      "Table 'Authors': 107372 rows\n",
      "Schema:\n",
      "CREATE TABLE Authors (\n",
      "                                        author_id text NOT NULL PRIMARY KEY,\n",
      "                                        name text NOT NULL)\n",
      "\n",
      "---\n",
      "Table 'Books': 427314 rows\n",
      "Schema:\n",
      "CREATE TABLE Books (\n",
      "                                        book_id text NOT NULL PRIMARY KEY,\n",
      "                                        title text NOT NULL,\n",
      "                                        author_id text NOT NULL,\n",
      "                                        image_url text NOT NULL,\n",
      "                                        description text NOT NULL,\n",
      "                                        average_rating real NOT NULL,\n",
      "                                        FOREIGN KEY (author_id) REFERENCES Authors(author_id))\n",
      "\n",
      "---\n",
      "Table 'Reviews': 3374600 rows\n",
      "Schema:\n",
      "CREATE TABLE Reviews (review_id text NOT NULL PRIMARY KEY,\n",
      "                                        review_text text NOT NULL)\n",
      "\n",
      "---\n",
      "Table 'Ratings': 3374600 rows\n",
      "Schema:\n",
      "CREATE TABLE Ratings (rating_id text NOT NULL PRIMARY KEY,\n",
      "                                        user_id text NOT NULL,\n",
      "                                        book_id text NOT NULL,\n",
      "                                        rating INTEGER NOT NULL,\n",
      "                                        review_id text,\n",
      "                                        FOREIGN KEY (user_id) REFERENCES Users(user_id),\n",
      "                                        FOREIGN KEY (book_id) REFERENCES Books(book_id),\n",
      "                                        FOREIGN KEY (review_id) REFERENCES Reviews(review_id))\n",
      "\n",
      "---\n",
      "Table 'Users': 10000 rows\n",
      "Schema:\n",
      "CREATE TABLE \"Users\" (\n",
      "                                        user_id text NOT NULL PRIMARY KEY,\n",
      "                                        id text NOT NULL ,\n",
      "                                        pw text NOT NULL,\n",
      "                                        nickname text NOT NULL,\n",
      "                                        email text NOT NULL,\n",
      "                                        address text NOT NULL,\n",
      "                                        address_gu text NOT NULL,\n",
      "                                        address_dong text NOT NULL,\n",
      "                                        lat_long text NOT NULL,\n",
      "                                        lat real NOT NULL,\n",
      "                                        long real NOT NULL\n",
      "                                        )\n",
      "\n",
      "---\n",
      "Table 'Sharings': 30000 rows\n",
      "Schema:\n",
      "CREATE TABLE Sharings (share_id text NOT NULL PRIMARY KEY,\n",
      "                                        user_id text NOT NULL,\n",
      "                                        book_id text NOT NULL,\n",
      "                                        FOREIGN KEY (user_id) REFERENCES Users(user_id),\n",
      "                                        FOREIGN KEY (book_id) REFERENCES Books(book_id))\n",
      "\n"
     ]
    }
   ],
   "source": [
    "db_check('project.db')"
   ]
  },
  {
   "cell_type": "code",
   "execution_count": null,
   "metadata": {},
   "outputs": [],
   "source": []
  }
 ],
 "metadata": {
  "kernelspec": {
   "display_name": "Python 3",
   "language": "python",
   "name": "python3"
  },
  "language_info": {
   "codemirror_mode": {
    "name": "ipython",
    "version": 3
   },
   "file_extension": ".py",
   "mimetype": "text/x-python",
   "name": "python",
   "nbconvert_exporter": "python",
   "pygments_lexer": "ipython3",
   "version": "3.11.3"
  },
  "orig_nbformat": 4
 },
 "nbformat": 4,
 "nbformat_minor": 2
}
