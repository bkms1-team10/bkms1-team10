{
 "cells": [
  {
   "cell_type": "code",
   "execution_count": 32,
   "metadata": {},
   "outputs": [],
   "source": [
    "import sqlite3\n",
    "\n",
    "def query(command, path='D:\\\\project.db'):\n",
    "    conn = sqlite3.connect(path)\n",
    "    cursor = conn.cursor()\n",
    "    cursor.execute(command)\n",
    "    rows = cursor.fetchall()\n",
    "    conn.close()\n",
    "    return rows\n",
    "\n",
    "def db_insert(dict_data, table_name, path='D:\\\\project.db'):\n",
    "    conn = sqlite3.connect(path)\n",
    "    cursor = conn.cursor()\n",
    "    columns = ', '.join(dict_data)\n",
    "    values = ', '.join(['?'] * len(dict_data))\n",
    "    sql = f\"INSERT INTO {table_name} ({columns}) VALUES ({values})\"\n",
    "    cursor.execute(sql, tuple(dict_data.values()))\n",
    "    conn.commit()\n",
    "    conn.close()\n",
    "\n",
    "def row_search(table_name, column_name, value, path='D:\\\\project.db'):\n",
    "    conn = sqlite3.connect(path)\n",
    "    cursor = conn.cursor()\n",
    "    sql = f\"SELECT * FROM {table_name} WHERE {column_name} = ?\"\n",
    "    cursor.execute(sql, (value,))\n",
    "    row = cursor.fetchone()\n",
    "    conn.close()\n",
    "    return row\n",
    "\n",
    "def db_Users_initialize(path):\n",
    "    conn = sqlite3.connect(path)\n",
    "    cursor = conn.cursor()\n",
    "    cursor.execute(\"SELECT COUNT(*) FROM Users\")\n",
    "    start_row = 10000\n",
    "    cursor.execute(\"DELETE FROM Users WHERE rowid > ?\", (start_row,))\n",
    "    conn.commit()\n",
    "    conn.close()"
   ]
  },
  {
   "cell_type": "code",
   "execution_count": 19,
   "metadata": {},
   "outputs": [],
   "source": [
    "\"\"\"\n",
    "In flask:\n",
    "\n",
    "users = {}\n",
    "users['id'] = int(test_query.id) + 1\n",
    "users['user_id'] = request.form['userID']\n",
    "users['pw'] = request.form['password']\n",
    "users['nickname'] = request.form['username']\n",
    "users['email'] = request.form['email']\n",
    "users['lat'] = request.form['lat']\n",
    "users['long'] = request.form['long']\n",
    "\"\"\"\n",
    "\n",
    "users = {\n",
    "    'user_id': 'test',\n",
    "    'id': 'test',    \n",
    "    'pw': 'test',\n",
    "    'nickname': 'test',\n",
    "    'email': 'test',\n",
    "    'lat': 0.0,\n",
    "    'long': 0.0,\n",
    "}"
   ]
  },
  {
   "cell_type": "code",
   "execution_count": 35,
   "metadata": {},
   "outputs": [
    {
     "name": "stdout",
     "output_type": "stream",
     "text": [
      "10001\n",
      "('test', 'test', 'test', 'test', 'test', 0.0, 0.0)\n"
     ]
    }
   ],
   "source": [
    "db_insert(dict_data=users, table_name=\"Users\", path='project.db')\n",
    "print(query('Select count(*) from Users', path='project.db')[0][0])\n",
    "print(row_search(table_name='Users', column_name='user_id', value='test', path='project.db'))"
   ]
  },
  {
   "cell_type": "code",
   "execution_count": 36,
   "metadata": {},
   "outputs": [
    {
     "name": "stdout",
     "output_type": "stream",
     "text": [
      "10000\n",
      "None\n"
     ]
    }
   ],
   "source": [
    "db_Users_initialize('project.db')\n",
    "print(query('Select count(*) from Users', path='project.db')[0][0])\n",
    "print(row_search(table_name='Users', column_name='user_id', value='test', path='project.db'))"
   ]
  }
 ],
 "metadata": {
  "kernelspec": {
   "display_name": "Python 3",
   "language": "python",
   "name": "python3"
  },
  "language_info": {
   "codemirror_mode": {
    "name": "ipython",
    "version": 3
   },
   "file_extension": ".py",
   "mimetype": "text/x-python",
   "name": "python",
   "nbconvert_exporter": "python",
   "pygments_lexer": "ipython3",
   "version": "3.11.3"
  },
  "orig_nbformat": 4
 },
 "nbformat": 4,
 "nbformat_minor": 2
}
