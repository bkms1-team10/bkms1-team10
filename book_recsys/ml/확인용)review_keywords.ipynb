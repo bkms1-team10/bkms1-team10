{
 "cells": [
  {
   "cell_type": "code",
   "execution_count": 1,
   "metadata": {},
   "outputs": [],
   "source": [
    "import warnings\n",
    "warnings.filterwarnings('ignore')\n",
    "\n",
    "import os\n",
    "import sys\n",
    "sys.path.append('../')\n",
    "\n",
    "from collections import defaultdict\n",
    "import re\n",
    "from tqdm import tqdm\n",
    "import pandas as pd\n",
    "\n",
    "import nltk\n",
    "from nltk.corpus import stopwords\n",
    "from sklearn.feature_extraction.text import TfidfVectorizer\n",
    "\n",
    "from ml.query import *\n",
    "from ml.utils import *"
   ]
  },
  {
   "cell_type": "code",
   "execution_count": 2,
   "metadata": {},
   "outputs": [
    {
     "name": "stderr",
     "output_type": "stream",
     "text": [
      "[nltk_data] Downloading package stopwords to\n",
      "[nltk_data]     /Users/jeongmoonwon/nltk_data...\n",
      "[nltk_data]   Package stopwords is already up-to-date!\n"
     ]
    }
   ],
   "source": [
    "# 불용어 목록 다운로드\n",
    "nltk.download('stopwords')\n",
    "\n",
    "# 불용어 목록 가져오기\n",
    "stopwords = set(stopwords.words('english'))"
   ]
  },
  {
   "cell_type": "code",
   "execution_count": 3,
   "metadata": {},
   "outputs": [],
   "source": [
    "def clean_text(x):\n",
    "    x = re.sub(r'\\d', ' ', x)\n",
    "    x = re.sub(\"\\n\",\" \",x)\n",
    "    x = re.sub(\"<.*?>\",\" \",x)\n",
    "    x = re.sub(\"\\s+\", \" \", x).strip()\n",
    "    x = re.sub(r'\\b\\w*read\\w*\\b', ' ', x)\n",
    "    x = re.sub(r'\\b\\w*book\\w*\\b', ' ', x)\n",
    "    return x"
   ]
  },
  {
   "cell_type": "code",
   "execution_count": 4,
   "metadata": {},
   "outputs": [],
   "source": [
    "WORKING_DIRECTORY = '/Users/jeongmoonwon/Downloads/Courses/BKMS1/team_project/bkms1-team10/book_recsys'"
   ]
  },
  {
   "cell_type": "code",
   "execution_count": 5,
   "metadata": {},
   "outputs": [],
   "source": [
    "review_keywords_dir_path = os.path.join(WORKING_DIRECTORY, 'results/review_keywords')\n",
    "os.makedirs(review_keywords_dir_path, exist_ok=True)"
   ]
  },
  {
   "cell_type": "code",
   "execution_count": 6,
   "metadata": {},
   "outputs": [],
   "source": [
    "db_path = os.path.join(WORKING_DIRECTORY, 'resources/project.db')\n",
    "con = connection(db_path)"
   ]
  },
  {
   "cell_type": "code",
   "execution_count": 7,
   "metadata": {},
   "outputs": [],
   "source": [
    "ratings = read_table(con, ratings_query)\n",
    "reviews = read_table(con, reviews_query)"
   ]
  },
  {
   "cell_type": "code",
   "execution_count": 8,
   "metadata": {},
   "outputs": [],
   "source": [
    "review_df = pd.merge(ratings, reviews, on='review_id', how = 'inner')\n",
    "review_df = review_df[['book_id', 'review_text']]"
   ]
  },
  {
   "cell_type": "code",
   "execution_count": 9,
   "metadata": {},
   "outputs": [
    {
     "data": {
      "text/html": [
       "<div>\n",
       "<style scoped>\n",
       "    .dataframe tbody tr th:only-of-type {\n",
       "        vertical-align: middle;\n",
       "    }\n",
       "\n",
       "    .dataframe tbody tr th {\n",
       "        vertical-align: top;\n",
       "    }\n",
       "\n",
       "    .dataframe thead th {\n",
       "        text-align: right;\n",
       "    }\n",
       "</style>\n",
       "<table border=\"1\" class=\"dataframe\">\n",
       "  <thead>\n",
       "    <tr style=\"text-align: right;\">\n",
       "      <th></th>\n",
       "      <th>book_id</th>\n",
       "      <th>review_text</th>\n",
       "    </tr>\n",
       "  </thead>\n",
       "  <tbody>\n",
       "    <tr>\n",
       "      <th>0</th>\n",
       "      <td>34426579</td>\n",
       "      <td>4.5 I'm-Obsessed Stars!! \\n Jessica Hawkins ha...</td>\n",
       "    </tr>\n",
       "    <tr>\n",
       "      <th>1</th>\n",
       "      <td>32993133</td>\n",
       "      <td>4.5 Stars!! \\n \"Was sixteen too young to fall ...</td>\n",
       "    </tr>\n",
       "    <tr>\n",
       "      <th>2</th>\n",
       "      <td>35162866</td>\n",
       "      <td>4.5 EPIC STARS!! \\n OMG what do I read now?! M...</td>\n",
       "    </tr>\n",
       "    <tr>\n",
       "      <th>3</th>\n",
       "      <td>35121403</td>\n",
       "      <td>RACER EFFING TATE!! \\n Katy Evans is back, doi...</td>\n",
       "    </tr>\n",
       "    <tr>\n",
       "      <th>4</th>\n",
       "      <td>33807229</td>\n",
       "      <td>4.5 Addictive Stars!! \\n \"I'm Easton Royal, su...</td>\n",
       "    </tr>\n",
       "    <tr>\n",
       "      <th>...</th>\n",
       "      <td>...</td>\n",
       "      <td>...</td>\n",
       "    </tr>\n",
       "    <tr>\n",
       "      <th>3374595</th>\n",
       "      <td>12988016</td>\n",
       "      <td>\"You know you can do anything to me,\" she murm...</td>\n",
       "    </tr>\n",
       "    <tr>\n",
       "      <th>3374596</th>\n",
       "      <td>14866</td>\n",
       "      <td>Nineteen Minutes is the story of a teenager, P...</td>\n",
       "    </tr>\n",
       "    <tr>\n",
       "      <th>3374597</th>\n",
       "      <td>8352056</td>\n",
       "      <td>This is my second Dorothy McFalls story, after...</td>\n",
       "    </tr>\n",
       "    <tr>\n",
       "      <th>3374598</th>\n",
       "      <td>42899</td>\n",
       "      <td>A couple of months ago, I discovered the Kresl...</td>\n",
       "    </tr>\n",
       "    <tr>\n",
       "      <th>3374599</th>\n",
       "      <td>14384</td>\n",
       "      <td>I had never read the paranormal romance genre,...</td>\n",
       "    </tr>\n",
       "  </tbody>\n",
       "</table>\n",
       "<p>3374600 rows × 2 columns</p>\n",
       "</div>"
      ],
      "text/plain": [
       "          book_id                                        review_text\n",
       "0        34426579  4.5 I'm-Obsessed Stars!! \\n Jessica Hawkins ha...\n",
       "1        32993133  4.5 Stars!! \\n \"Was sixteen too young to fall ...\n",
       "2        35162866  4.5 EPIC STARS!! \\n OMG what do I read now?! M...\n",
       "3        35121403  RACER EFFING TATE!! \\n Katy Evans is back, doi...\n",
       "4        33807229  4.5 Addictive Stars!! \\n \"I'm Easton Royal, su...\n",
       "...           ...                                                ...\n",
       "3374595  12988016  \"You know you can do anything to me,\" she murm...\n",
       "3374596     14866  Nineteen Minutes is the story of a teenager, P...\n",
       "3374597   8352056  This is my second Dorothy McFalls story, after...\n",
       "3374598     42899  A couple of months ago, I discovered the Kresl...\n",
       "3374599     14384  I had never read the paranormal romance genre,...\n",
       "\n",
       "[3374600 rows x 2 columns]"
      ]
     },
     "execution_count": 9,
     "metadata": {},
     "output_type": "execute_result"
    }
   ],
   "source": [
    "review_df"
   ]
  },
  {
   "cell_type": "code",
   "execution_count": 10,
   "metadata": {},
   "outputs": [],
   "source": [
    "review_df['review_text'] = review_df['review_text'].fillna('')\n",
    "review_df = review_df.head(1000)  # 테스트로 일부만\n",
    "\n",
    "review_df['review_text'] = review_df['review_text'].apply(clean_text)\n",
    "\n",
    "reviews_new = review_df.groupby('book_id')['review_text'].apply(list).to_dict()\n",
    "book_list = list(reviews_new.keys())\n",
    "review_keywords = defaultdict(list)"
   ]
  },
  {
   "cell_type": "code",
   "execution_count": 11,
   "metadata": {},
   "outputs": [
    {
     "name": "stderr",
     "output_type": "stream",
     "text": [
      "100%|██████████| 1000/1000 [00:06<00:00, 163.34it/s]\n"
     ]
    }
   ],
   "source": [
    "for i in tqdm(book_list):\n",
    "    corpus = reviews_new[i]\n",
    "    vectorizer = TfidfVectorizer(stop_words='english', max_features=1000)\n",
    "\n",
    "    try:\n",
    "        vecs = vectorizer.fit_transform(corpus)\n",
    "        feature_names = vectorizer.get_feature_names()\n",
    "        dense = vecs.todense()\n",
    "        lst1 = dense.tolist()\n",
    "        tfidf_matrix = pd.DataFrame(lst1, columns=feature_names)\n",
    "        keywords = tfidf_matrix.T.sum(axis=1).sort_values(ascending=False).index[:10].tolist()\n",
    "        review_keywords[i].append(keywords)\n",
    "\n",
    "    except ValueError:\n",
    "        pass"
   ]
  },
  {
   "cell_type": "code",
   "execution_count": 12,
   "metadata": {},
   "outputs": [],
   "source": [
    "keyword_df = pd.DataFrame.from_dict(review_keywords, orient='index', columns=['keywords'])\n",
    "keyword_df.reset_index(inplace=True)\n",
    "keyword_df.columns = ['book_id', 'keywords']"
   ]
  },
  {
   "cell_type": "code",
   "execution_count": 13,
   "metadata": {},
   "outputs": [
    {
     "data": {
      "text/html": [
       "<div>\n",
       "<style scoped>\n",
       "    .dataframe tbody tr th:only-of-type {\n",
       "        vertical-align: middle;\n",
       "    }\n",
       "\n",
       "    .dataframe tbody tr th {\n",
       "        vertical-align: top;\n",
       "    }\n",
       "\n",
       "    .dataframe thead th {\n",
       "        text-align: right;\n",
       "    }\n",
       "</style>\n",
       "<table border=\"1\" class=\"dataframe\">\n",
       "  <thead>\n",
       "    <tr style=\"text-align: right;\">\n",
       "      <th></th>\n",
       "      <th>book_id</th>\n",
       "      <th>keywords</th>\n",
       "    </tr>\n",
       "  </thead>\n",
       "  <tbody>\n",
       "    <tr>\n",
       "      <th>0</th>\n",
       "      <td>10187224</td>\n",
       "      <td>[smith, come, time, feel, way, experiences, ch...</td>\n",
       "    </tr>\n",
       "    <tr>\n",
       "      <th>1</th>\n",
       "      <td>10438971</td>\n",
       "      <td>[just, fey, years, heard, great, funny, fan, f...</td>\n",
       "    </tr>\n",
       "    <tr>\n",
       "      <th>2</th>\n",
       "      <td>10480613</td>\n",
       "      <td>[world, series, boatman, body, check, count, c...</td>\n",
       "    </tr>\n",
       "    <tr>\n",
       "      <th>3</th>\n",
       "      <td>1093105</td>\n",
       "      <td>[narrator, tension, distracting, ll, liked, ke...</td>\n",
       "    </tr>\n",
       "    <tr>\n",
       "      <th>4</th>\n",
       "      <td>11080141</td>\n",
       "      <td>[perspective, family, does, story, county, col...</td>\n",
       "    </tr>\n",
       "    <tr>\n",
       "      <th>...</th>\n",
       "      <td>...</td>\n",
       "      <td>...</td>\n",
       "    </tr>\n",
       "    <tr>\n",
       "      <th>994</th>\n",
       "      <td>9634447</td>\n",
       "      <td>[jack, old, year, felt, mother, idea, child, t...</td>\n",
       "    </tr>\n",
       "    <tr>\n",
       "      <th>995</th>\n",
       "      <td>9814767</td>\n",
       "      <td>[people, characters, violence, really, end, co...</td>\n",
       "    </tr>\n",
       "    <tr>\n",
       "      <th>996</th>\n",
       "      <td>9815629</td>\n",
       "      <td>[series, lackberg, really, second, sub, summer...</td>\n",
       "    </tr>\n",
       "    <tr>\n",
       "      <th>997</th>\n",
       "      <td>9912994</td>\n",
       "      <td>[really, palahniuk, idea, novel, like, don, de...</td>\n",
       "    </tr>\n",
       "    <tr>\n",
       "      <th>998</th>\n",
       "      <td>9965191</td>\n",
       "      <td>[liked, harriet, ve, like, makes, really, didn...</td>\n",
       "    </tr>\n",
       "  </tbody>\n",
       "</table>\n",
       "<p>999 rows × 2 columns</p>\n",
       "</div>"
      ],
      "text/plain": [
       "      book_id                                           keywords\n",
       "0    10187224  [smith, come, time, feel, way, experiences, ch...\n",
       "1    10438971  [just, fey, years, heard, great, funny, fan, f...\n",
       "2    10480613  [world, series, boatman, body, check, count, c...\n",
       "3     1093105  [narrator, tension, distracting, ll, liked, ke...\n",
       "4    11080141  [perspective, family, does, story, county, col...\n",
       "..        ...                                                ...\n",
       "994   9634447  [jack, old, year, felt, mother, idea, child, t...\n",
       "995   9814767  [people, characters, violence, really, end, co...\n",
       "996   9815629  [series, lackberg, really, second, sub, summer...\n",
       "997   9912994  [really, palahniuk, idea, novel, like, don, de...\n",
       "998   9965191  [liked, harriet, ve, like, makes, really, didn...\n",
       "\n",
       "[999 rows x 2 columns]"
      ]
     },
     "execution_count": 13,
     "metadata": {},
     "output_type": "execute_result"
    }
   ],
   "source": [
    "keyword_df"
   ]
  }
 ],
 "metadata": {
  "kernelspec": {
   "display_name": "Python 3",
   "language": "python",
   "name": "python3"
  },
  "language_info": {
   "codemirror_mode": {
    "name": "ipython",
    "version": 3
   },
   "file_extension": ".py",
   "mimetype": "text/x-python",
   "name": "python",
   "nbconvert_exporter": "python",
   "pygments_lexer": "ipython3",
   "version": "3.8.3"
  }
 },
 "nbformat": 4,
 "nbformat_minor": 4
}
